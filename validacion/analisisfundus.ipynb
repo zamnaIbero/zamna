{
 "cells": [
  {
   "cell_type": "code",
   "execution_count": 1,
   "metadata": {},
   "outputs": [
    {
     "name": "stdout",
     "output_type": "stream",
     "text": [
      "Imagenes encontradas 1020\n",
      "Dimensiones esperadas (256, 256)\n"
     ]
    }
   ],
   "source": [
    "import os\n",
    "import cv2\n",
    "\n",
    "import numpy as np\n",
    "import matplotlib.pyplot as plt\n",
    "\n",
    "from modelLoader import segmentationModel\n",
    "\n",
    "PATH_imagenes = 'C:/Users/abcar/Desktop/casi TODO/ESCUELA/INTERNADO/Resultados/U-NET/fundus/Imagenes/'\n",
    "PATH_mascaras = 'C:/Users/abcar/Desktop/casi TODO/ESCUELA/INTERNADO/Resultados/U-NET/fundus/Mascaras/'\n",
    "PATH_modelo = 'C:/Users/abcar/Desktop/casi TODO/ESCUELA/INTERNADO/Resultados/U-NET/Modelos/fundus.tflite'\n",
    "\n",
    "listimagenes = os.listdir(PATH_imagenes)\n",
    "listmascaras = os.listdir(PATH_mascaras)\n",
    "\n",
    "modelo = segmentationModel(PATH_modelo)\n",
    "dim = modelo.getDims()\n",
    "\n",
    "print(\"Imagenes encontradas {}\".format(len(listimagenes)))\n",
    "print(\"Dimensiones esperadas {}\".format(dim))"
   ]
  },
  {
   "cell_type": "code",
   "execution_count": 2,
   "metadata": {},
   "outputs": [],
   "source": [
    "def dice_coef(true, pred):\n",
    "\n",
    "    inter = np.sum(true*pred)\n",
    "    total = np.sum(pred) + np.sum(true)\n",
    "\n",
    "    return np.round((2*inter)/total, 3)\n",
    "\n",
    "def leerImagenes(PATH : str, dim, im = 2000):\n",
    "\n",
    "    imagenes = sorted(os.listdir(PATH)) # Listamos las imágenes en el path.\n",
    "    im = [cv2.cvtColor(cv2.resize(cv2.imread(PATH + imagenes[i]), dim), cv2.COLOR_BGR2GRAY) for i in range(0, im)]\n",
    "\n",
    "    return im\n",
    "\n",
    "imagenes = leerImagenes(PATH_imagenes, dim, len(listimagenes))\n",
    "imagenes = [i/np.max(i) for i in imagenes]\n",
    "\n",
    "true = leerImagenes(PATH_mascaras, dim, len(listimagenes))\n",
    "truenorm = [i/np.max(i) if np.max(i) != 0 else i for i in true]"
   ]
  },
  {
   "cell_type": "code",
   "execution_count": 15,
   "metadata": {},
   "outputs": [],
   "source": [
    "truenorm_bin = [cv2.threshold(i, 0.4, 1, cv2.THRESH_BINARY)[1] for i in truenorm]"
   ]
  },
  {
   "cell_type": "code",
   "execution_count": 30,
   "metadata": {},
   "outputs": [
    {
     "name": "stdout",
     "output_type": "stream",
     "text": [
      "1017\n",
      "0.9134029411764706\n",
      "0.07980313640192829\n"
     ]
    }
   ],
   "source": [
    "import math\n",
    "\n",
    "conteo, score = 0, []\n",
    "im = []\n",
    "\n",
    "no_proces = []\n",
    "\n",
    "for i in range(0, len(imagenes)):\n",
    "\n",
    "    pred = modelo.predict(imagenes[i], contornos = False)\n",
    "    s = dice_coef(truenorm_bin[i], pred)\n",
    "\n",
    "    if s == 0 or math.isnan(s):\n",
    "\n",
    "        no_proces.append(i)\n",
    "        score.append(0)\n",
    "\n",
    "    else:\n",
    "\n",
    "        conteo += 1\n",
    "\n",
    "        im.append(i) # Guardamos la imagen.\n",
    "        score.append(s)\n",
    "\n",
    "scoreaux = np.array(score)\n",
    "\n",
    "print(conteo)\n",
    "print(np.average(score))\n",
    "print(np.std(score))"
   ]
  },
  {
   "cell_type": "code",
   "execution_count": 31,
   "metadata": {},
   "outputs": [
    {
     "name": "stdout",
     "output_type": "stream",
     "text": [
      "1020\n"
     ]
    }
   ],
   "source": [
    "print(len(score))"
   ]
  },
  {
   "cell_type": "code",
   "execution_count": 32,
   "metadata": {},
   "outputs": [
    {
     "name": "stdout",
     "output_type": "stream",
     "text": [
      "1017\n",
      "0.8501372527166907\n",
      "0.08757887677110436\n"
     ]
    }
   ],
   "source": [
    "iou_score, conteo = [], 0\n",
    "\n",
    "for i in im:\n",
    "\n",
    "    intersection = np.logical_and(truenorm[i], modelo.predict(imagenes[i], contornos = False))\n",
    "    union = np.logical_or(truenorm[i], modelo.predict(imagenes[i], contornos = False))\n",
    "    iou = np.sum(intersection)/np.sum(union)\n",
    "\n",
    "    if iou == 0 or math.isnan(iou):\n",
    "\n",
    "        iou_score.append(0)\n",
    "\n",
    "    else:\n",
    "\n",
    "        conteo += 1\n",
    "        iou_score.append(iou)\n",
    "\n",
    "print(conteo)\n",
    "print(np.average(iou_score))\n",
    "print(np.std(iou_score))"
   ]
  },
  {
   "cell_type": "code",
   "execution_count": 30,
   "metadata": {},
   "outputs": [
    {
     "name": "stdout",
     "output_type": "stream",
     "text": [
      "0.9581531897446557\n",
      "0.03888687594379214\n"
     ]
    }
   ],
   "source": [
    "from sklearn.metrics import confusion_matrix\n",
    "\n",
    "pixel_accuracy = []\n",
    "\n",
    "for i in im:\n",
    "\n",
    "    predi = np.array(modelo.predict(imagenes[i], contornos = False))\n",
    "    cm = confusion_matrix(np.array(truenorm[i], dtype = np.uint8).flatten(), predi.flatten())\n",
    "    proper = np.sum(np.diagonal(cm))\n",
    "    pix_acc = proper/(256**2)\n",
    "\n",
    "    pixel_accuracy.append(pix_acc)\n",
    "\n",
    "print(np.average(pixel_accuracy))\n",
    "print(np.std(pixel_accuracy))"
   ]
  }
 ],
 "metadata": {
  "kernelspec": {
   "display_name": "Python 3",
   "language": "python",
   "name": "python3"
  },
  "language_info": {
   "codemirror_mode": {
    "name": "ipython",
    "version": 3
   },
   "file_extension": ".py",
   "mimetype": "text/x-python",
   "name": "python",
   "nbconvert_exporter": "python",
   "pygments_lexer": "ipython3",
   "version": "3.10.0"
  },
  "orig_nbformat": 4
 },
 "nbformat": 4,
 "nbformat_minor": 2
}
